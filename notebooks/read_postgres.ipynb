{
 "cells": [
  {
   "cell_type": "code",
   "execution_count": 1,
   "id": "d3eb1d65",
   "metadata": {},
   "outputs": [],
   "source": [
    "from pyspark.sql import SparkSession\n",
    "\n",
    "path_to_jar = \"/home/jovyan/work/data/jars/postgresql-42.3.2.jar\"\n",
    "\n",
    "spark = SparkSession.builder.master(\"local\")\\\n",
    "    .config(\"spark.jars\", path_to_jar) \\\n",
    "    .config(\"spark.driver.extraClassPath\", path_to_jar) \\\n",
    "    .config(\"spark.executor.extraClassPath\", path_to_jar) \\\n",
    "    .config(\"spark.repl.local.jars\", path_to_jar) \\\n",
    "    .getOrCreate()\n",
    "\n",
    "sc = spark.sparkContext"
   ]
  },
  {
   "cell_type": "code",
   "execution_count": 2,
   "id": "b73162a7",
   "metadata": {
    "tags": []
   },
   "outputs": [
    {
     "name": "stdout",
     "output_type": "stream",
     "text": [
      "+--------------------+---------+----------+---------+-----------+-------+\n",
      "|              PLAYER|     TEAM|INJURED ON| RETURNED|DAYS MISSED|   flag|\n",
      "+--------------------+---------+----------+---------+-----------+-------+\n",
      "|      Christian Wood|  Rockets| 16 Feb 22|17 Feb 22|          1|Illness|\n",
      "|        Terry Taylor|   Pacers| 11 Feb 22|12 Feb 22|          1|Illness|\n",
      "|   Jonas Valanciunas| Pelicans| 28 Jan 22|31 Jan 22|          3|Illness|\n",
      "|         Will Barton|  Nuggets| 28 Jan 22|30 Jan 22|          2|Illness|\n",
      "|      Day'Ron Sharpe|     Nets| 26 Jan 22|28 Jan 22|          2|Illness|\n",
      "|       Jarrett Allen|Cavaliers| 24 Jan 22|26 Jan 22|          2|Illness|\n",
      "|       Markus Howard|  Nuggets| 23 Jan 22|25 Jan 22|          2|Illness|\n",
      "|        Bones Hyland|  Nuggets| 23 Jan 22|24 Jan 22|          1|Illness|\n",
      "|     Frank Ntilikina|Mavericks| 23 Jan 22|24 Jan 22|          1|Illness|\n",
      "|       Austin Rivers|  Nuggets| 15 Jan 22|18 Jan 22|          3|Illness|\n",
      "|       James Johnson|     Nets| 15 Jan 22|18 Jan 22|          3|Illness|\n",
      "|        Norvel Pelle|     Jazz| 12 Jan 22|15 Jan 22|          3|Illness|\n",
      "| Willie Cauley-Stein|Mavericks| 29 Nov 21|15 Jan 22|         47|Illness|\n",
      "|Giannis Antetokou...|    Bucks| 05 Jan 22|07 Jan 22|          2|Illness|\n",
      "|       Moritz Wagner|    Magic| 03 Jan 22|07 Jan 22|          4|Illness|\n",
      "|      Romeo Langford|  Celtics| 02 Jan 22|05 Jan 22|          3|Illness|\n",
      "|        Tyrell Terry|Grizzlies| 04 Jan 22|05 Jan 22|          1|Illness|\n",
      "|   Robert Woodard II|    Kings| 02 Jan 22|03 Jan 22|          1|Illness|\n",
      "|       Davis Bertans|  Wizards| 30 Dec 21|02 Jan 22|          3|Illness|\n",
      "|       Vlatko Cancar|  Nuggets| 28 Dec 21|01 Jan 22|          4|Illness|\n",
      "+--------------------+---------+----------+---------+-----------+-------+\n",
      "only showing top 20 rows\n",
      "\n"
     ]
    }
   ],
   "source": [
    "df_injuries = (\n",
    "    spark.read\n",
    "    .format(\"jdbc\")\n",
    "    .option(\"url\", \"jdbc:postgresql://postgres:5432/nba\")\n",
    "    .option(\"dbtable\", \"public.players_injuries\")\n",
    "    .option(\"user\", \"nba\")\n",
    "    .option(\"password\", \"nba\")\n",
    "    .option(\"driver\", \"org.postgresql.Driver\")\n",
    "    .load()\n",
    ")\n",
    "df_injuries.show()"
   ]
  },
  {
   "cell_type": "code",
   "execution_count": 3,
   "id": "edea8aee-d498-4877-b97d-a3811383a56b",
   "metadata": {},
   "outputs": [
    {
     "name": "stdout",
     "output_type": "stream",
     "text": [
      "+----+------------------+-----------+------------------------+-------+\n",
      "|Rank|            Player|     salary|current_salary_inflation|   flag|\n",
      "+----+------------------+-----------+------------------------+-------+\n",
      "|  1.|       Kobe Bryant|$24,806,250|             $30,921,289|2010/11|\n",
      "|  2.|     Rashard Lewis|$19,573,711|             $24,398,866|2010/11|\n",
      "|  3.|     Kevin Garnett|$18,800,000|             $23,434,426|2010/11|\n",
      "|  4.|        Tim Duncan|$18,700,000|             $23,309,775|2010/11|\n",
      "|  5.|      Michael Redd|$18,300,000|             $22,811,170|2010/11|\n",
      "|  6.|         Pau Gasol|$17,823,000|             $22,216,584|2010/11|\n",
      "|  6.|  Andrei Kirilenko|$17,823,000|             $22,216,584|2010/11|\n",
      "|  8.|    Gilbert Arenas|$17,730,694|             $22,101,523|2010/11|\n",
      "|  9.|          Yao Ming|$17,686,100|             $22,045,936|2010/11|\n",
      "| 10.|     Zach Randolph|$17,666,666|             $22,021,712|2010/11|\n",
      "| 11.|      Vince Carter|$17,300,000|             $21,564,658|2010/11|\n",
      "| 12.|     Dirk Nowitzki|$17,278,618|             $21,538,005|2010/11|\n",
      "| 13.|   Carmelo Anthony|$17,149,243|             $21,376,738|2010/11|\n",
      "| 14.|     Dwight Howard|$16,647,180|             $20,750,910|2010/11|\n",
      "| 15.|     Kenyon Martin|$16,545,454|             $20,624,107|2010/11|\n",
      "| 16.|  Amare Stoudemire|$16,486,611|             $20,550,759|2010/11|\n",
      "| 17.|       Joe Johnson|$16,324,500|             $20,348,686|2010/11|\n",
      "| 18.|       Elton Brand|$15,959,099|             $19,893,209|2010/11|\n",
      "| 19.|Predrag Stojakovic|$15,532,320|             $19,361,223|2010/11|\n",
      "| 20.|        Chris Paul|$14,940,153|             $18,623,080|2010/11|\n",
      "+----+------------------+-----------+------------------------+-------+\n",
      "only showing top 20 rows\n",
      "\n"
     ]
    }
   ],
   "source": [
    "df_salaries = (\n",
    "    spark.read\n",
    "    .format(\"jdbc\")\n",
    "    .option(\"url\", \"jdbc:postgresql://postgres:5432/nba\")\n",
    "    .option(\"dbtable\", \"public.players_salaries\")\n",
    "    .option(\"user\", \"nba\")\n",
    "    .option(\"password\", \"nba\")\n",
    "    .option(\"driver\", \"org.postgresql.Driver\")\n",
    "    .load()\n",
    ")\n",
    "df_salaries.show()"
   ]
  },
  {
   "cell_type": "code",
   "execution_count": 6,
   "id": "679718b5-5f54-43e7-a9c4-91e0ce01be10",
   "metadata": {},
   "outputs": [
    {
     "name": "stdout",
     "output_type": "stream",
     "text": [
      "+---+--------------------+---+---+----+----+----+----+----+---+----+----+---+----+----+----+---+---+---+---+---+---+-----+--------------------+\n",
      "| RK|                Name|POS| GP| MIN| PTS| FGM| FGA| FG%|3PM| 3PA| 3P%|FTM| FTA| FT%| REB|AST|STL|BLK| TO|DD2|TD3|  PER|                flag|\n",
      "+---+--------------------+---+---+----+----+----+----+----+---+----+----+---+----+----+----+---+---+---+---+---+---+-----+--------------------+\n",
      "|  1|     Joel Embiid PHI|  C| 51|33.1|29.5| 9.3|19.0|49.0|1.3| 3.7|35.1|9.6|11.6|82.2|11.2|4.4|1.1|1.4|3.0| 31|  2|31.42|Season_Regular_20...|\n",
      "|  2|Giannis Antetokou...| PF| 53|32.8|29.4|10.0|18.5|54.3|1.1| 3.8|29.7|8.3|11.4|72.4|11.6|6.0|1.0|1.4|3.3| 35|  4|32.16|Season_Regular_20...|\n",
      "|  3|    LeBron James LAL| SF| 46|36.8|29.4|11.1|21.2|52.2|2.8| 7.9|35.4|4.5| 5.9|76.4| 8.1|6.2|1.5|1.0|3.4| 18|  4|26.51|Season_Regular_20...|\n",
      "|  4|   DeMar DeRozan CHI| SF| 60|35.9|28.1|10.3|20.2|51.2|0.7| 1.8|36.4|6.8| 7.8|86.6| 5.3|5.1|0.9|0.3|2.4|  5|  0|24.34|Season_Regular_20...|\n",
      "|  5|      Trae Young ATL| PG| 58|34.6|28.0| 9.4|20.5|45.7|2.9| 7.7|38.2|6.3| 7.0|89.7| 3.8|9.3|0.9|0.1|4.0| 31|  0|25.28|Season_Regular_20...|\n",
      "|  6|     Luka Doncic DAL| PG| 48|35.6|27.8| 9.8|21.8|45.0|2.8| 8.3|33.2|5.5| 7.4|73.9| 9.2|8.8|1.2|0.5|4.6| 33|  9| 24.2|Season_Regular_20...|\n",
      "|  7|       Ja Morant MEM| PG| 51|33.3|27.7|10.3|20.8|49.7|1.6| 4.7|34.7|5.5| 7.2|75.6| 5.8|6.6|1.2|0.4|3.4|  9|  1|25.51|Season_Regular_20...|\n",
      "|  8|    Jayson Tatum BOS| SF| 61|36.2|26.0| 9.0|20.8|43.5|2.8| 8.4|32.8|5.2| 6.1|85.0| 8.3|4.2|1.0|0.7|2.9| 19|  0|20.55|Season_Regular_20...|\n",
      "|  9|Donovan Mitchell ...| SG| 50|33.6|25.9| 9.3|20.4|45.5|3.5| 9.7|35.7|3.9| 4.6|85.5| 4.0|5.2|1.6|0.2|3.0|  2|  0| 22.6|Season_Regular_20...|\n",
      "| 10|    Stephen Curry GS| PG| 59|34.8|25.8| 8.5|19.6|43.2|4.6|12.0|37.9|4.3| 4.7|91.8| 5.2|6.4|1.3|0.4|3.2| 12|  2|21.73|Season_Regular_20...|\n",
      "+---+--------------------+---+---+----+----+----+----+----+---+----+----+---+----+----+----+---+---+---+---+---+---+-----+--------------------+\n",
      "only showing top 10 rows\n",
      "\n"
     ]
    }
   ],
   "source": [
    "df_stats = (\n",
    "    spark.read\n",
    "    .format(\"jdbc\")\n",
    "    .option(\"url\", \"jdbc:postgresql://postgres:5432/nba\")\n",
    "    .option(\"dbtable\", \"public.players_stats\")\n",
    "    .option(\"user\", \"nba\")\n",
    "    .option(\"password\", \"nba\")\n",
    "    .option(\"driver\", \"org.postgresql.Driver\")\n",
    "    .load()\n",
    ")\n",
    "df_stats.show(n=10)"
   ]
  }
 ],
 "metadata": {
  "kernelspec": {
   "display_name": "Python 3 (ipykernel)",
   "language": "python",
   "name": "python3"
  },
  "language_info": {
   "codemirror_mode": {
    "name": "ipython",
    "version": 3
   },
   "file_extension": ".py",
   "mimetype": "text/x-python",
   "name": "python",
   "nbconvert_exporter": "python",
   "pygments_lexer": "ipython3",
   "version": "3.9.10"
  }
 },
 "nbformat": 4,
 "nbformat_minor": 5
}

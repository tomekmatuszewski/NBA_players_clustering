df_injuries = (
    spark.read
    .format("jdbc")
    .option("url", "jdbc:postgresql://postgres:5432/nba")
    .option("dbtable", "public.players_injuries")
    .option("user", "nba")
    .option("password", "nba")
    .option("driver", "org.postgresql.Driver")
    .load()
)
df_injuries.show()

df_injuries = (
    spark.read
    .format("jdbc")
    .option("url", "jdbc:postgresql://postgres:5432/nba")
    .option("dbtable", "public.players_injuries")
    .option("user", "nba")
    .option("password", "nba")
    .option("driver", "org.postgresql.Driver")
    .load()
)
df_injuries.show()